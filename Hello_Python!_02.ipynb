{
 "metadata": {
  "name": ""
 },
 "nbformat": 3,
 "nbformat_minor": 0,
 "worksheets": [
  {
   "cells": [
    {
     "cell_type": "heading",
     "level": 1,
     "metadata": {},
     "source": [
      "Python as a tool for Science & Engineering"
     ]
    },
    {
     "cell_type": "markdown",
     "metadata": {},
     "source": [
      "\n",
      "***Ravi Sharan B A G., 14th December, 2013.***"
     ]
    },
    {
     "cell_type": "markdown",
     "metadata": {},
     "source": [
      "***Talk presented at Faculty Summit on Advanced Communication & Research 2013, International Institute of Information Technology Hyderabad.***"
     ]
    },
    {
     "cell_type": "markdown",
     "metadata": {},
     "source": [
      "------------------------------------------------------------------------------"
     ]
    },
    {
     "cell_type": "heading",
     "level": 2,
     "metadata": {},
     "source": [
      "What is Python ?"
     ]
    },
    {
     "cell_type": "markdown",
     "metadata": {},
     "source": [
      "* Python, by definition, is a high\\-level programming language.\n",
      "* Apart from the programming language and interpreter, Python also consists of an extensive standard library. \n",
      "* This library is aimed at programming in general and contains modules for os specific stuff, threading, networking, databases, etc."
     ]
    },
    {
     "cell_type": "heading",
     "level": 2,
     "metadata": {},
     "source": [
      "Scientist/Engineer's requirements ?"
     ]
    },
    {
     "cell_type": "markdown",
     "metadata": {},
     "source": [
      "- Get data (simulation, real-time acquisition)\n",
      "- Manipulate and process data\n",
      "- Visualize data (understand the simulations)\n",
      "- Communicate results - produce figures, publish papers & presentations."
     ]
    },
    {
     "cell_type": "heading",
     "level": 2,
     "metadata": {},
     "source": [
      "Existing Solutions :"
     ]
    },
    {
     "cell_type": "markdown",
     "metadata": {},
     "source": [
      "***Compiled Languages:*** **C, C++, FORTRAN, etc:**\n",
      "\n",
      "- Advantages :\n",
      "    + Very fast. Very optimized compilers. For heavy computations. \n",
      "    + Difficult to outperform these languages.\n",
      "    + Some very optimized scientific libraries have been written for these languages.\n",
      "\n",
      "- Disadvantages :\n",
      "    + Painful usage: no interactivity during development, mandatory compilation steps, verbose syntax (&,::, }}, ; etc.), manual memory management (tricky in C). These are difficult languages for non computer scientists.\n"
     ]
    },
    {
     "cell_type": "markdown",
     "metadata": {},
     "source": [
      "***Scripting languages:*** **Matlab**\n",
      "\n",
      "- Advantages:\n",
      "    + Very rich collection of libraries with numerous algorithms, for many different domains. Fast execution because these libraries are often written in a compiled language.\n",
      "    + Pleasant development environment: comprehensive and well organized help, integrated editor, etc.\n",
      "    + Commercial support is available.\n",
      "- Disadvantages:\n",
      "    + Base language is quite poor and can become restrictive for advanced users.\n",
      "    + Not free."
     ]
    },
    {
     "cell_type": "markdown",
     "metadata": {},
     "source": [
      "***Other scripting languages:*** **Scilab, Octave, R**\n",
      "\n",
      "- Advantages:\n",
      "    + Open-source, free, or at least cheaper than Matlab.\n",
      "    + Some features can be very advanced (statistics in R, figures in Igor, etc.)\n",
      "\n",
      "- Disadvantages:\n",
      "    + Fewer available algorithms than in Matlab, and the language is not more advanced.\n",
      "    + Some software are dedicated to one domain. Ex: Gnuplot or xmgrace to draw curves. These programs are very powerful, but they are restricted to a single type of usage, such as plotting.\n"
     ]
    },
    {
     "cell_type": "markdown",
     "metadata": {},
     "source": [
      "***Python as a tool for Science & Engineering :***\n",
      "\n",
      "- Advantages:\n",
      "    + Very rich scientific computing libraries (a bit less than Matlab, though)\n",
      "    + Well thought out language, allowing to write very readable and well structured code: we \u201ccode what we think\u201d.\n",
      "    + Many libraries for other tasks than scientific computing (web server management, serial port access,etc.)\n",
      "    + Free and open-source software, widely spread, with a vibrant community.\n",
      "    + Mostly used for quick-protoytping.\n",
      "\n",
      "- Drawbacks:\n",
      "    + less pleasant development environment than, for example, Matlab. (More geek-oriented).\n",
      "    + Not all the algorithms that can be found in more specialized software or toolboxes."
     ]
    },
    {
     "cell_type": "heading",
     "level": 2,
     "metadata": {},
     "source": [
      "Lets say Hello to Python!"
     ]
    },
    {
     "cell_type": "raw",
     "metadata": {},
     "source": [
      ">>> print 'hello, world!'"
     ]
    },
    {
     "cell_type": "heading",
     "level": 3,
     "metadata": {},
     "source": [
      "Variables"
     ]
    },
    {
     "cell_type": "raw",
     "metadata": {},
     "source": [
      ">>> message = \"What's up, Duck?\"\n",
      ">>> n = 17\n",
      ">>> pi = 3.14159"
     ]
    },
    {
     "cell_type": "heading",
     "level": 3,
     "metadata": {},
     "source": [
      "Functions"
     ]
    },
    {
     "cell_type": "raw",
     "metadata": {},
     "source": [
      "def add(n,pi):\n",
      "    \"\"\" \n",
      "    Docstring format for Python functions and classes. \n",
      "\n",
      "    Using docstrings in your code not only improves readability,\n",
      "\n",
      "    but can also be used to generate automatic documentation for your code \n",
      "    \"\"\"\n",
      "    \n",
      "    npi=n+pi\n",
      "    print npi\n",
      "    return npi"
     ]
    },
    {
     "cell_type": "raw",
     "metadata": {},
     "source": [
      "addition = add(2,3) # Function is being called."
     ]
    },
    {
     "cell_type": "heading",
     "level": 3,
     "metadata": {},
     "source": [
      "Control Flow"
     ]
    },
    {
     "cell_type": "markdown",
     "metadata": {},
     "source": [
      "***if/ elif/ else***"
     ]
    },
    {
     "cell_type": "raw",
     "metadata": {},
     "source": [
      "x=3\n",
      "if x > 0:\n",
      "    print \"x is positive\"\n",
      "elif x==0:\n",
      "    print \"Something\"\n",
      "else:\n",
      "    print \"Something else\""
     ]
    },
    {
     "cell_type": "markdown",
     "metadata": {},
     "source": [
      "***for/range***"
     ]
    },
    {
     "cell_type": "raw",
     "metadata": {},
     "source": [
      "for i in range(1,5):\n",
      "    print i**2"
     ]
    },
    {
     "cell_type": "markdown",
     "metadata": {},
     "source": [
      "***while***"
     ]
    },
    {
     "cell_type": "raw",
     "metadata": {},
     "source": [
      "z = 1 + 1j\n",
      "\n",
      "while abs(z) < 100:\n",
      "    if z.imag == 0:\n",
      "        break\n",
      "    z = z**2 + 1\n",
      "    print z"
     ]
    },
    {
     "cell_type": "heading",
     "level": 3,
     "metadata": {},
     "source": [
      "Return Statement"
     ]
    },
    {
     "cell_type": "markdown",
     "metadata": {},
     "source": [
      "The return statement allows you to terminate the execution of a function before you reach the end. One reason to use it is if you detect an error condition:"
     ]
    },
    {
     "cell_type": "raw",
     "metadata": {},
     "source": [
      "# Example borrowed from \"How to Think like a Computer Scientist - Python\",\n",
      "# by Jeffrey Elkner, Allen B. Downey, and Chris Meyers.\n",
      "\n",
      "def print_sqr_root(x):\n",
      "    if x <= 0:\n",
      "        print \"Positive numbers only, please.\"\n",
      "        return\n",
      "\n",
      "    result = x**0.5\n",
      "    print \"The square root of\", x, \"is\", result"
     ]
    },
    {
     "cell_type": "raw",
     "metadata": {},
     "source": [
      "print_sqr_root(25) "
     ]
    },
    {
     "cell_type": "heading",
     "level": 2,
     "metadata": {},
     "source": [
      "References and Further readings:"
     ]
    },
    {
     "cell_type": "markdown",
     "metadata": {},
     "source": [
      "1. [Official Python Documentation](http://docs.python.org/2/contents.html \"Official Python Docs\").\n",
      "\n",
      "2. [How to Think Like a Computer Scientist](http://www.openbookproject.net/thinkcs/python/english2e/index.html \"Quick Understanding of concepts\").\n",
      "\n",
      "3. [Dive into Python](http://www.diveintopython3.net/ \"Dive into Python 2 is also available\").\n",
      "\n",
      "4. [Python PEPs](http://www.python.org/dev/peps/ \"Site for all Python Enhancement Proposals\")."
     ]
    }
   ],
   "metadata": {}
  }
 ]
}