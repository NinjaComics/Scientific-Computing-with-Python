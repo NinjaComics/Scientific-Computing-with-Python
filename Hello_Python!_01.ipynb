{
 "metadata": {
  "name": ""
 },
 "nbformat": 3,
 "nbformat_minor": 0,
 "worksheets": [
  {
   "cells": [
    {
     "cell_type": "heading",
     "level": 1,
     "metadata": {
      "slideshow": {
       "slide_type": "slide"
      }
     },
     "source": [
      "Scientific Computing with Python"
     ]
    },
    {
     "cell_type": "markdown",
     "metadata": {},
     "source": [
      "***Ravi Sharan B A G., 14th December, 2013.***"
     ]
    },
    {
     "cell_type": "markdown",
     "metadata": {},
     "source": [
      "***Talk presented at Faculty Summit on Advanced Communication & Research 2013, International Institute of Information Technology Hyderabad***"
     ]
    },
    {
     "cell_type": "markdown",
     "metadata": {},
     "source": [
      "------------------------------------------------------------"
     ]
    },
    {
     "cell_type": "heading",
     "level": 2,
     "metadata": {},
     "source": [
      "Hello World!"
     ]
    },
    {
     "cell_type": "markdown",
     "metadata": {},
     "source": [
      "1. Outline of talk:\n",
      "    - Python as a tool for Science & Engineering.\n",
      "    - Explaining one tool at a time:\n",
      "        * Numpy\n",
      "        * Scipy\n",
      "        * Matplotlib\n",
      "    - iPython Notebook and Examples\n",
      "2. Please save questions for the end."
     ]
    },
    {
     "cell_type": "markdown",
     "metadata": {},
     "source": [
      "***Note:*** This tutorial is far from explaining scientific computing using Python, as enumerating the complete standard library in Python would be very time consuming. The talk instead concentrates on a few examples to give a general idea of how to use Python for scientific computing."
     ]
    },
    {
     "cell_type": "markdown",
     "metadata": {},
     "source": [
      "------------------------------------------------------------"
     ]
    },
    {
     "cell_type": "markdown",
     "metadata": {},
     "source": [
      "**Note**"
     ]
    },
    {
     "cell_type": "markdown",
     "metadata": {},
     "source": [
      "This talk is available on [GitHub](https://github.com/NinjaComics/Scientific-Computing-with-Python.git) in [iPython Notebook](http://ipython.org/notebook.html \"Interactive Computing\") format"
     ]
    }
   ],
   "metadata": {}
  }
 ]
}